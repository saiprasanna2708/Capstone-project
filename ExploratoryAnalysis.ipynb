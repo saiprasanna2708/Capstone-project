{
  "nbformat": 4,
  "nbformat_minor": 0,
  "metadata": {
    "colab": {
      "name": "Untitled0.ipynb",
      "provenance": [],
      "collapsed_sections": []
    },
    "kernelspec": {
      "name": "python3",
      "display_name": "Python 3"
    }
  },
  "cells": [
    {
      "cell_type": "code",
      "metadata": {
        "id": "S_RiR_dPaWey",
        "colab_type": "code",
        "colab": {}
      },
      "source": [
        " #Data Manipulation libraries\n",
        "import pandas as pd\n",
        "import numpy as np\n",
        "\n",
        "# Visualization libraries\n",
        "import matplotlib as mpl\n",
        "import matplotlib.pyplot as plt\n",
        "import seaborn as sns\n",
        "%matplotlib inline\n",
        "\n",
        "# Predictive Analytics models\n",
        "import sklearn\n",
        "from sklearn import linear_model\n",
        "from sklearn.metrics import mean_squared_error\n",
        "from sklearn.model_selection  import train_test_split"
      ],
      "execution_count": null,
      "outputs": []
    },
    {
      "cell_type": "code",
      "metadata": {
        "id": "qwINn7PZazdE",
        "colab_type": "code",
        "colab": {}
      },
      "source": [
        " # Loading the dataset\n",
        "df = pd.read_csv('train.csv') "
      ],
      "execution_count": null,
      "outputs": []
    },
    {
      "cell_type": "code",
      "metadata": {
        "id": "HeOeocTua2U6",
        "colab_type": "code",
        "colab": {}
      },
      "source": [
        "#Finding out if there are any missing values\n",
        "df.isnull().sum()"
      ],
      "execution_count": null,
      "outputs": []
    },
    {
      "cell_type": "code",
      "metadata": {
        "id": "d24_-8J8EY0u",
        "colab_type": "code",
        "colab": {}
      },
      "source": [
        "#check for data types \n",
        "df.dtypes"
      ],
      "execution_count": null,
      "outputs": []
    },
    {
      "cell_type": "code",
      "metadata": {
        "id": "TBr0Ft4AEi5_",
        "colab_type": "code",
        "colab": {}
      },
      "source": [
        "#visualize all variables in a histogram\n",
        "df.hist()"
      ],
      "execution_count": null,
      "outputs": []
    },
    {
      "cell_type": "code",
      "metadata": {
        "id": "9aypciDRCMUo",
        "colab_type": "code",
        "colab": {}
      },
      "source": [
        "#the below code shows % difference i.e., percentage no car insurance subscription vs percentage of car insurance subscription\n",
        "from collections import Counter\n",
        "print(Counter(df['CarInsurance']))\n",
        "\n",
        "df_new = df.groupby('CarInsurance').agg('count')\n",
        "df_labels = df_new.Id.sort_values().index\n",
        "df_counts = df_new.Id.sort_values()\n",
        "\n",
        "pal_new = plt.pie(df_counts,labels=df_labels, autopct='%1.1f%%')\n",
        "plt.show()"
      ],
      "execution_count": null,
      "outputs": []
    },
    {
      "cell_type": "code",
      "metadata": {
        "id": "yxqkhiobFMAc",
        "colab_type": "code",
        "colab": {}
      },
      "source": [
        "#the below 4 lines of code shows us the average of our target demographics"
      ],
      "execution_count": null,
      "outputs": []
    },
    {
      "cell_type": "code",
      "metadata": {
        "id": "yGDlinsmxL9H",
        "colab_type": "code",
        "colab": {}
      },
      "source": [
        "df.groupby('CarInsurance').mean()"
      ],
      "execution_count": null,
      "outputs": []
    },
    {
      "cell_type": "code",
      "metadata": {
        "id": "kSk1qjjHE_ah",
        "colab_type": "code",
        "colab": {}
      },
      "source": [
        "df.groupby('Marital').mean()"
      ],
      "execution_count": null,
      "outputs": []
    },
    {
      "cell_type": "code",
      "metadata": {
        "id": "c037VMAAFBjt",
        "colab_type": "code",
        "colab": {}
      },
      "source": [
        "df.groupby('Education').mean()"
      ],
      "execution_count": null,
      "outputs": []
    },
    {
      "cell_type": "code",
      "metadata": {
        "id": "Neo2HQYbFD9D",
        "colab_type": "code",
        "colab": {}
      },
      "source": [
        "df.groupby('Job').mean()"
      ],
      "execution_count": null,
      "outputs": []
    },
    {
      "cell_type": "code",
      "metadata": {
        "id": "eLbbTsC-olB3",
        "colab_type": "code",
        "colab": {}
      },
      "source": [
        "#subsetting the data\n",
        "df_car1=df[df.CarInsurance==1]\n",
        "df_car2=df[df.CarInsurance==0]"
      ],
      "execution_count": null,
      "outputs": []
    },
    {
      "cell_type": "code",
      "metadata": {
        "id": "4fsjQkmho4GJ",
        "colab_type": "code",
        "colab": {}
      },
      "source": [
        "df_car1"
      ],
      "execution_count": null,
      "outputs": []
    },
    {
      "cell_type": "code",
      "metadata": {
        "id": "8BS1VlkMx1QZ",
        "colab_type": "code",
        "colab": {}
      },
      "source": [
        "%pylab inline\n",
        "import pandas as pd\n",
        "import matplotlib.pyplot as plt\n",
        "df = df[['Age','CarInsurance']]\n",
        "out = pd.cut(df['Age'], bins=[0, 17, 25, 30,35,40,45, 50 ,60,70, 80 , 100])\n",
        "df['Age_Bins'] = out\n",
        "df\n",
        "df3 = df.groupby(['Age_Bins', 'CarInsurance'])['Age_Bins'].count().unstack('CarInsurance')\n",
        "df3.plot(kind='bar')"
      ],
      "execution_count": null,
      "outputs": []
    },
    {
      "cell_type": "code",
      "metadata": {
        "id": "kZU6rdMOz7nv",
        "colab_type": "code",
        "colab": {}
      },
      "source": [
        "%pylab inline\n",
        "import pandas as pd\n",
        "import matplotlib.pyplot as plt\n",
        "df2 = df[['Communication','CarInsurance']]\n",
        "df2.fillna('NA', inplace=True)\n",
        "df_communication = df2.groupby(['Communication', 'CarInsurance'])['Communication'].count().unstack('CarInsurance')\n",
        "df_communication.plot(kind='bar')"
      ],
      "execution_count": null,
      "outputs": []
    },
    {
      "cell_type": "code",
      "metadata": {
        "id": "TwZDldEbyQtm",
        "colab_type": "code",
        "colab": {}
      },
      "source": [
        "df_car1.Age.hist()\n",
        "plt.title('Histogram of Age')\n",
        "plt.xlabel('Age')\n",
        "plt.ylabel('Frequency')\n",
        "plt.savefig('hist_age')"
      ],
      "execution_count": null,
      "outputs": []
    },
    {
      "cell_type": "code",
      "metadata": {
        "id": "4qUkeAjR8hBe",
        "colab_type": "code",
        "colab": {}
      },
      "source": [
        "df_car1.DaysPassed.hist()\n",
        "plt.title('Histogram of Last contact')\n",
        "plt.xlabel('Last Contact')\n",
        "plt.ylabel('Frequency')\n",
        "plt.savefig('hist_age')"
      ],
      "execution_count": null,
      "outputs": []
    },
    {
      "cell_type": "code",
      "metadata": {
        "id": "2kQOATEbkUsu",
        "colab_type": "code",
        "colab": {}
      },
      "source": [
        "%pylab inline\n",
        "import pandas as pd\n",
        "import matplotlib.pyplot as plt\n",
        "df3 = df.groupby(['Marital', 'CarInsurance'])['Marital'].count().unstack('CarInsurance')\n",
        "df3.plot(kind='bar')\n"
      ],
      "execution_count": null,
      "outputs": []
    },
    {
      "cell_type": "code",
      "metadata": {
        "id": "HRMt2LhE3nGw",
        "colab_type": "code",
        "colab": {}
      },
      "source": [
        "%pylab inline\n",
        "import pandas as pd\n",
        "import matplotlib.pyplot as plt\n",
        "df3 = df.groupby(['LastContactMonth', 'CarInsurance'])['LastContactMonth'].count().unstack('CarInsurance')\n",
        "df3.plot(kind='bar')\n"
      ],
      "execution_count": null,
      "outputs": []
    },
    {
      "cell_type": "code",
      "metadata": {
        "id": "5zzatj2x2Fak",
        "colab_type": "code",
        "colab": {}
      },
      "source": [
        "#below code helps us to find the duration of the calls and what kind of impact it had on buying behavior\n",
        "df2 = df[['CallStart','CallEnd','CarInsurance']]\n",
        "\n",
        "df2['CallStart'] = pd.to_datetime(df2['CallStart'])\n",
        "df2['CallEnd'] = pd.to_datetime(df2['CallEnd'])\n",
        "\n",
        "diff = df2['CallEnd'] - df2['CallStart']\n",
        "\n",
        "df2['Diff'] = diff\n",
        "\n",
        "\n",
        "df2['Diff'] = df2['Diff'].astype(str).str[-18:-10]\n",
        "\n",
        "df2[['Hours','Mins','Seconds']] = df2['Diff'].str.split(\":\",expand=True,)\n",
        "\n",
        "df2['Mins'] = df2['Mins'].astype(str).astype(int)\n",
        "\n",
        "df3 = pd.cut(df2['Mins'], bins=[0,2,4,6,8,10,12,14,16,18,20,22,24,26,28,30,32])\n",
        "\n",
        "df2['Diff_Min_Bins'] = df3\n",
        "\n",
        "df2\n",
        "\n",
        "df4 = df2.groupby(['Diff_Min_Bins', 'CarInsurance'])['Diff_Min_Bins'].count().unstack('CarInsurance')\n",
        "df4.plot(kind='bar')"
      ],
      "execution_count": null,
      "outputs": []
    },
    {
      "cell_type": "code",
      "metadata": {
        "id": "J6wDT3UglnCF",
        "colab_type": "code",
        "colab": {}
      },
      "source": [
        "from collections import Counter\n",
        "print(Counter(df['Marital']))\n",
        "\n",
        "df_new = df.groupby('Marital').agg('count')\n",
        "df_labels = df_new.Id.sort_values().index\n",
        "df_counts = df_new.Id.sort_values()\n",
        "\n",
        "pal_new = plt.pie(df_counts,labels=df_labels, autopct='%1.1f%%')\n",
        "plt.show()"
      ],
      "execution_count": null,
      "outputs": []
    },
    {
      "cell_type": "code",
      "metadata": {
        "id": "z2wVloBdR7JS",
        "colab_type": "code",
        "colab": {}
      },
      "source": [
        "correlation_matrix = df.corr().round(2)\n",
        "sns.heatmap(data=correlation_matrix, annot=True)\n",
        "plt.show()"
      ],
      "execution_count": null,
      "outputs": []
    },
    {
      "cell_type": "code",
      "metadata": {
        "id": "a4B_FGrHVNXb",
        "colab_type": "code",
        "colab": {}
      },
      "source": [
        "%pylab inline\n",
        "import pandas as pd\n",
        "import matplotlib.pyplot as plt\n",
        "df2 = df[['NoOfContacts','CarInsurance']]\n",
        "out = pd.cut(df2['NoOfContacts'], bins=[0,2, 4,6, 10, 15, 20, 30,45])\n",
        "df2['NoOfContacts_Bins'] = out\n",
        "df2\n",
        "df3 = df2.groupby(['NoOfContacts_Bins', 'CarInsurance'])['NoOfContacts_Bins'].count().unstack('CarInsurance')\n",
        "df3.plot(kind='bar')"
      ],
      "execution_count": null,
      "outputs": []
    },
    {
      "cell_type": "code",
      "metadata": {
        "id": "Oxindd9MWP3d",
        "colab_type": "code",
        "colab": {}
      },
      "source": [
        "%pylab inline\n",
        "import pandas as pd\n",
        "import matplotlib.pyplot as plt\n",
        "df2 = df[['PrevAttempts','Outcome']]\n",
        "out = pd.cut(df2['PrevAttempts'], bins=[0, 5, 10, 15, 20, 30,45])\n",
        "df2['PrevAttempts_Bins'] = out\n",
        "df2\n",
        "df3 = df2.groupby(['PrevAttempts_Bins', 'Outcome'])['PrevAttempts_Bins'].count().unstack('Outcome')\n",
        "df3.plot(kind='bar')"
      ],
      "execution_count": null,
      "outputs": []
    }
  ]
}