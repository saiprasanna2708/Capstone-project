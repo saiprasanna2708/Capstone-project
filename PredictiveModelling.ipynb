{
  "nbformat": 4,
  "nbformat_minor": 0,
  "metadata": {
    "colab": {
      "name": "Untitled1 (1).ipynb",
      "provenance": [],
      "collapsed_sections": []
    },
    "kernelspec": {
      "name": "python3",
      "display_name": "Python 3"
    }
  },
  "cells": [
    {
      "cell_type": "code",
      "metadata": {
        "id": "uDgvTrvubveT",
        "colab_type": "code",
        "colab": {}
      },
      "source": [
        "#Data Manipulation libraries\n",
        "import pandas as pd\n",
        "import numpy as np\n",
        "\n",
        "# Visualization libraries\n",
        "import matplotlib as mpl\n",
        "import matplotlib.pyplot as plt\n",
        "import seaborn as sns\n",
        "%matplotlib inline\n",
        "\n",
        "# Predictive Analytics models\n",
        "import sklearn\n",
        "from sklearn import linear_model\n",
        "from sklearn.metrics import mean_squared_error\n",
        "from sklearn.model_selection  import train_test_split\n",
        "\n",
        "#loading the datasets\n",
        "speedstar_train = pd.read_csv('train.csv') \n",
        "\n",
        "speedstar_test = pd.read_csv('test.csv') "
      ],
      "execution_count": 61,
      "outputs": []
    },
    {
      "cell_type": "code",
      "metadata": {
        "id": "hLYuz0zZoIao",
        "colab_type": "code",
        "colab": {}
      },
      "source": [
        "#function to remove string values by converting their values to 0s and 1s\n",
        "def codex (speedstar_input):\n",
        "  cat_vars=['Job','Marital','Education','Default','HHInsurance','CarLoan',\\\n",
        "            'Communication','LastContactMonth','PrevAttempts']\n",
        "  for var in cat_vars:\n",
        "    cat_list = pd.get_dummies(speedstar_train[var], prefix=var)\n",
        "    speedstar_input = pd.merge(speedstar_input,cat_list,left_index=True, right_index=True)\n",
        "  speedstar_input.drop(cat_vars,axis=1,inplace=True)\n",
        "  return speedstar_input"
      ],
      "execution_count": 62,
      "outputs": []
    },
    {
      "cell_type": "code",
      "metadata": {
        "id": "iJbBSgL1VSpw",
        "colab_type": "code",
        "colab": {}
      },
      "source": [
        "#function to remove string values by converting their values to 0s and 1s\n",
        "def codex (speedstar_input):\n",
        "  cat_vars=['Job','Marital','Education','Default','HHInsurance','CarLoan',\\\n",
        "            'Communication','LastContactMonth','PrevAttempts']\n",
        "  for var in cat_vars:\n",
        "    cat_list = pd.get_dummies(speedstar_test[var], prefix=var)\n",
        "    speedstar_input = pd.merge(speedstar_input,cat_list,left_index=True, right_index=True)\n",
        "  speedstar_input.drop(cat_vars,axis=1,inplace=True)\n",
        "  return speedstar_input"
      ],
      "execution_count": 63,
      "outputs": []
    },
    {
      "cell_type": "code",
      "metadata": {
        "id": "vYQSSwM4rcYS",
        "colab_type": "code",
        "colab": {}
      },
      "source": [
        "#applying the functions\n",
        "speedstar_train = codex(speedstar_train)\n",
        "speedstar_test = codex(speedstar_test)"
      ],
      "execution_count": 64,
      "outputs": []
    },
    {
      "cell_type": "code",
      "metadata": {
        "id": "LdmXLFtQncFG",
        "colab_type": "code",
        "colab": {
          "base_uri": "https://localhost:8080/",
          "height": 34
        },
        "outputId": "5be60b63-2fcb-48ea-f63c-dc03c329544c"
      },
      "source": [
        "#Check for the column mismatch\n",
        "speedstar_test_columns= set(speedstar_test.columns.to_list())\n",
        "speedstar_train_columns= set(speedstar_train.columns.to_list())\n",
        "speedstar_train_columns.difference(speedstar_test_columns)"
      ],
      "execution_count": 65,
      "outputs": [
        {
          "output_type": "execute_result",
          "data": {
            "text/plain": [
              "{'CarInsurance'}"
            ]
          },
          "metadata": {
            "tags": []
          },
          "execution_count": 65
        }
      ]
    },
    {
      "cell_type": "code",
      "metadata": {
        "id": "g-a-Frq6tR6X",
        "colab_type": "code",
        "colab": {}
      },
      "source": [
        "#setting the target column\n",
        "speedstar_y = speedstar_train['CarInsurance']\n",
        "speedstar_x = speedstar_train[speedstar_test.columns]"
      ],
      "execution_count": 66,
      "outputs": []
    },
    {
      "cell_type": "code",
      "metadata": {
        "id": "u75qyAgBwkN2",
        "colab_type": "code",
        "colab": {}
      },
      "source": [
        "#function for converting the time columns to durations\n",
        "def getduration (speedstar_input):\n",
        "  speedstar_input['CallStart'] = pd.to_datetime(speedstar_input['CallStart'])\n",
        "  speedstar_input['CallEnd'] = pd.to_datetime(speedstar_input['CallEnd'])\n",
        "\n",
        "  speedstar_input['Duration'] = speedstar_input['CallEnd'] - speedstar_input['CallStart']\n",
        "  speedstar_input.drop(['CallStart','CallEnd'],axis=1,inplace=True)\n",
        "  speedstar_input['Duration'] = speedstar_input['Duration'].dt.total_seconds()\n",
        "  return speedstar_input\n",
        "\n"
      ],
      "execution_count": 67,
      "outputs": []
    },
    {
      "cell_type": "code",
      "metadata": {
        "id": "296F4juExZjj",
        "colab_type": "code",
        "colab": {}
      },
      "source": [
        "#applying function to datasets\n",
        "speedstar_x= getduration(speedstar_x)\n",
        "speedstar_test = getduration(speedstar_test)"
      ],
      "execution_count": null,
      "outputs": []
    },
    {
      "cell_type": "code",
      "metadata": {
        "id": "7shUMccyx6O5",
        "colab_type": "code",
        "colab": {}
      },
      "source": [
        "#drop Id column\n",
        "speedstar_x.drop(['Id'],axis=1,inplace=True)"
      ],
      "execution_count": 69,
      "outputs": []
    },
    {
      "cell_type": "code",
      "metadata": {
        "id": "VgFsPfcT0ea7",
        "colab_type": "code",
        "colab": {}
      },
      "source": [
        "#drop Id column\n",
        "speedstar_test.drop(['Id'],axis=1,inplace=True)"
      ],
      "execution_count": 70,
      "outputs": []
    },
    {
      "cell_type": "code",
      "metadata": {
        "id": "hvDnuKzW1DId",
        "colab_type": "code",
        "colab": {}
      },
      "source": [
        "#setting the values for Outcome to float\n",
        "d = {'failure': -1, 'success': 1, 'other': 0,'':0}\n",
        "speedstar_x['Outcome'] = speedstar_x['Outcome'].map(d)"
      ],
      "execution_count": 71,
      "outputs": []
    },
    {
      "cell_type": "code",
      "metadata": {
        "id": "uFtydb621ewE",
        "colab_type": "code",
        "colab": {}
      },
      "source": [
        "#setting the values for Outcome to float\n",
        "d = {'failure': -1, 'success': 1, 'other': 0,'':0}\n",
        "speedstar_test['Outcome'] = speedstar_test['Outcome'].map(d)"
      ],
      "execution_count": 77,
      "outputs": []
    },
    {
      "cell_type": "code",
      "metadata": {
        "id": "6JUHv2gt0goX",
        "colab_type": "code",
        "colab": {}
      },
      "source": [
        "#clf = LogisticRegression(random_state=0, max_iter = 1000).fit(df_x, df_y)\n",
        "speedstar_x.columns[speedstar_x.isna().any()].tolist()\n",
        "#df_x['Outcome'] = df_x['Outcome'].fillna(0)\n"
      ],
      "execution_count": null,
      "outputs": []
    },
    {
      "cell_type": "code",
      "metadata": {
        "id": "Ajljzkdr592M",
        "colab_type": "code",
        "colab": {}
      },
      "source": [
        "#Removing NA columns\n",
        "speedstar_test['Outcome'] = speedstar_test['Outcome'].fillna(0)\n",
        "speedstar_x['Outcome'] = speedstar_x['Outcome'].fillna(0)\n"
      ],
      "execution_count": 79,
      "outputs": []
    },
    {
      "cell_type": "code",
      "metadata": {
        "id": "O0RPn3dA6M4E",
        "colab_type": "code",
        "colab": {}
      },
      "source": [
        "#Apply Logistic Regression\n",
        "from sklearn.linear_model import LogisticRegression\n",
        "clf = LogisticRegression(random_state=0, max_iter = 1000).fit(speedstar_x, speedstar_y)\n",
        "#print(df_x['Outcome'].head)"
      ],
      "execution_count": null,
      "outputs": []
    },
    {
      "cell_type": "code",
      "metadata": {
        "id": "B8OWFVtY624b",
        "colab_type": "code",
        "colab": {}
      },
      "source": [
        "#predict result\n",
        "speedstar_results = clf.predict(speedstar_test)"
      ],
      "execution_count": 81,
      "outputs": []
    },
    {
      "cell_type": "code",
      "metadata": {
        "id": "zxtigcQ57Itd",
        "colab_type": "code",
        "colab": {}
      },
      "source": [
        "#Adding value to list\n",
        "speedstar_results_list=speedstar_results.tolist()"
      ],
      "execution_count": 82,
      "outputs": []
    },
    {
      "cell_type": "code",
      "metadata": {
        "id": "l9a7bioQ7kkG",
        "colab_type": "code",
        "colab": {}
      },
      "source": [
        "#Adding the Id column back\n",
        "speedstar_results_list=[('CP' + str(i),val) for i,val in enumerate(speedstar_results_list)]"
      ],
      "execution_count": 83,
      "outputs": []
    },
    {
      "cell_type": "code",
      "metadata": {
        "id": "p90yNdfF8OdF",
        "colab_type": "code",
        "colab": {
          "base_uri": "https://localhost:8080/",
          "height": 54
        },
        "outputId": "b7c08556-cdb4-44c9-8749-bc9ccd06218c"
      },
      "source": [
        "print(speedstar_results_list)"
      ],
      "execution_count": 84,
      "outputs": [
        {
          "output_type": "stream",
          "text": [
            "[('CP0', 0), ('CP1', 0), ('CP2', 1), ('CP3', 0), ('CP4', 0), ('CP5', 1), ('CP6', 1), ('CP7', 0), ('CP8', 0), ('CP9', 0), ('CP10', 0), ('CP11', 0), ('CP12', 1), ('CP13', 0), ('CP14', 0), ('CP15', 0), ('CP16', 0), ('CP17', 0), ('CP18', 0), ('CP19', 0), ('CP20', 0), ('CP21', 0), ('CP22', 1), ('CP23', 0), ('CP24', 0), ('CP25', 1), ('CP26', 1), ('CP27', 0), ('CP28', 1), ('CP29', 0), ('CP30', 0), ('CP31', 1), ('CP32', 0), ('CP33', 0), ('CP34', 0), ('CP35', 1), ('CP36', 0), ('CP37', 0), ('CP38', 0), ('CP39', 0), ('CP40', 0), ('CP41', 0), ('CP42', 0), ('CP43', 0), ('CP44', 1), ('CP45', 0), ('CP46', 0), ('CP47', 1), ('CP48', 0), ('CP49', 0), ('CP50', 0), ('CP51', 1), ('CP52', 0), ('CP53', 1), ('CP54', 0), ('CP55', 0), ('CP56', 0), ('CP57', 1), ('CP58', 0), ('CP59', 0), ('CP60', 0), ('CP61', 0), ('CP62', 1), ('CP63', 0), ('CP64', 0), ('CP65', 0), ('CP66', 0), ('CP67', 1), ('CP68', 1), ('CP69', 0), ('CP70', 0), ('CP71', 1), ('CP72', 1), ('CP73', 0), ('CP74', 0), ('CP75', 0), ('CP76', 0), ('CP77', 0), ('CP78', 0), ('CP79', 1), ('CP80', 1), ('CP81', 1), ('CP82', 0), ('CP83', 0), ('CP84', 0), ('CP85', 0), ('CP86', 0), ('CP87', 1), ('CP88', 0), ('CP89', 0), ('CP90', 0), ('CP91', 1), ('CP92', 0), ('CP93', 1), ('CP94', 0), ('CP95', 1), ('CP96', 0), ('CP97', 0), ('CP98', 0), ('CP99', 0), ('CP100', 0), ('CP101', 0), ('CP102', 1), ('CP103', 0), ('CP104', 0), ('CP105', 1), ('CP106', 0), ('CP107', 0), ('CP108', 0), ('CP109', 0), ('CP110', 0), ('CP111', 0), ('CP112', 1), ('CP113', 0), ('CP114', 0), ('CP115', 1), ('CP116', 0), ('CP117', 0), ('CP118', 0), ('CP119', 0), ('CP120', 1), ('CP121', 0), ('CP122', 0), ('CP123', 1), ('CP124', 1), ('CP125', 0), ('CP126', 1), ('CP127', 0), ('CP128', 0), ('CP129', 0), ('CP130', 0), ('CP131', 1), ('CP132', 1), ('CP133', 0), ('CP134', 0), ('CP135', 1), ('CP136', 0), ('CP137', 0), ('CP138', 0), ('CP139', 0), ('CP140', 0), ('CP141', 0), ('CP142', 1), ('CP143', 0), ('CP144', 0), ('CP145', 0), ('CP146', 0), ('CP147', 0), ('CP148', 0), ('CP149', 0), ('CP150', 0), ('CP151', 0), ('CP152', 0), ('CP153', 0), ('CP154', 0), ('CP155', 0), ('CP156', 0), ('CP157', 0), ('CP158', 1), ('CP159', 0), ('CP160', 0), ('CP161', 0), ('CP162', 0), ('CP163', 0), ('CP164', 1), ('CP165', 0), ('CP166', 0), ('CP167', 0), ('CP168', 0), ('CP169', 0), ('CP170', 1), ('CP171', 1), ('CP172', 1), ('CP173', 1), ('CP174', 0), ('CP175', 0), ('CP176', 0), ('CP177', 1), ('CP178', 1), ('CP179', 1), ('CP180', 0), ('CP181', 0), ('CP182', 1), ('CP183', 1), ('CP184', 0), ('CP185', 0), ('CP186', 0), ('CP187', 0), ('CP188', 0), ('CP189', 0), ('CP190', 0), ('CP191', 0), ('CP192', 0), ('CP193', 0), ('CP194', 0), ('CP195', 0), ('CP196', 1), ('CP197', 0), ('CP198', 0), ('CP199', 0), ('CP200', 0), ('CP201', 1), ('CP202', 1), ('CP203', 1), ('CP204', 0), ('CP205', 0), ('CP206', 0), ('CP207', 0), ('CP208', 0), ('CP209', 0), ('CP210', 0), ('CP211', 0), ('CP212', 1), ('CP213', 0), ('CP214', 1), ('CP215', 0), ('CP216', 0), ('CP217', 1), ('CP218', 0), ('CP219', 1), ('CP220', 0), ('CP221', 0), ('CP222', 0), ('CP223', 0), ('CP224', 0), ('CP225', 0), ('CP226', 1), ('CP227', 0), ('CP228', 1), ('CP229', 0), ('CP230', 0), ('CP231', 0), ('CP232', 1), ('CP233', 1), ('CP234', 0), ('CP235', 0), ('CP236', 0), ('CP237', 0), ('CP238', 1), ('CP239', 0), ('CP240', 0), ('CP241', 0), ('CP242', 0), ('CP243', 0), ('CP244', 1), ('CP245', 1), ('CP246', 1), ('CP247', 0), ('CP248', 0), ('CP249', 0), ('CP250', 0), ('CP251', 1), ('CP252', 0), ('CP253', 0), ('CP254', 0), ('CP255', 1), ('CP256', 1), ('CP257', 0), ('CP258', 0), ('CP259', 0), ('CP260', 0), ('CP261', 0), ('CP262', 1), ('CP263', 0), ('CP264', 1), ('CP265', 0), ('CP266', 0), ('CP267', 1), ('CP268', 0), ('CP269', 1), ('CP270', 0), ('CP271', 0), ('CP272', 1), ('CP273', 1), ('CP274', 0), ('CP275', 0), ('CP276', 0), ('CP277', 1), ('CP278', 0), ('CP279', 0), ('CP280', 0), ('CP281', 1), ('CP282', 0), ('CP283', 0), ('CP284', 0), ('CP285', 0), ('CP286', 1), ('CP287', 0), ('CP288', 0), ('CP289', 0), ('CP290', 0), ('CP291', 0), ('CP292', 0), ('CP293', 0), ('CP294', 0), ('CP295', 1), ('CP296', 0), ('CP297', 0), ('CP298', 0), ('CP299', 1), ('CP300', 1), ('CP301', 0), ('CP302', 0), ('CP303', 0), ('CP304', 0), ('CP305', 0), ('CP306', 1), ('CP307', 0), ('CP308', 0), ('CP309', 1), ('CP310', 0), ('CP311', 0), ('CP312', 0), ('CP313', 1), ('CP314', 0), ('CP315', 0), ('CP316', 0), ('CP317', 0), ('CP318', 1), ('CP319', 0), ('CP320', 0), ('CP321', 0), ('CP322', 0), ('CP323', 0), ('CP324', 1), ('CP325', 1), ('CP326', 1), ('CP327', 1), ('CP328', 0), ('CP329', 0), ('CP330', 0), ('CP331', 0), ('CP332', 0), ('CP333', 0), ('CP334', 1), ('CP335', 0), ('CP336', 0), ('CP337', 1), ('CP338', 0), ('CP339', 0), ('CP340', 0), ('CP341', 0), ('CP342', 0), ('CP343', 0), ('CP344', 0), ('CP345', 0), ('CP346', 1), ('CP347', 1), ('CP348', 1), ('CP349', 0), ('CP350', 0), ('CP351', 0), ('CP352', 0), ('CP353', 0), ('CP354', 0), ('CP355', 1), ('CP356', 0), ('CP357', 0), ('CP358', 1), ('CP359', 1), ('CP360', 0), ('CP361', 1), ('CP362', 1), ('CP363', 0), ('CP364', 1), ('CP365', 0), ('CP366', 0), ('CP367', 0), ('CP368', 0), ('CP369', 0), ('CP370', 0), ('CP371', 0), ('CP372', 1), ('CP373', 0), ('CP374', 1), ('CP375', 1), ('CP376', 0), ('CP377', 0), ('CP378', 0), ('CP379', 0), ('CP380', 0), ('CP381', 0), ('CP382', 0), ('CP383', 0), ('CP384', 1), ('CP385', 1), ('CP386', 0), ('CP387', 1), ('CP388', 0), ('CP389', 0), ('CP390', 1), ('CP391', 0), ('CP392', 0), ('CP393', 0), ('CP394', 0), ('CP395', 1), ('CP396', 0), ('CP397', 0), ('CP398', 0), ('CP399', 0), ('CP400', 0), ('CP401', 0), ('CP402', 0), ('CP403', 0), ('CP404', 1), ('CP405', 0), ('CP406', 0), ('CP407', 0), ('CP408', 1), ('CP409', 1), ('CP410', 1), ('CP411', 0), ('CP412', 0), ('CP413', 0), ('CP414', 1), ('CP415', 0), ('CP416', 0), ('CP417', 0), ('CP418', 0), ('CP419', 0), ('CP420', 0), ('CP421', 0), ('CP422', 0), ('CP423', 0), ('CP424', 0), ('CP425', 1), ('CP426', 0), ('CP427', 1), ('CP428', 1), ('CP429', 1), ('CP430', 0), ('CP431', 0), ('CP432', 0), ('CP433', 0), ('CP434', 1), ('CP435', 0), ('CP436', 0), ('CP437', 0), ('CP438', 1), ('CP439', 0), ('CP440', 1), ('CP441', 1), ('CP442', 0), ('CP443', 0), ('CP444', 0), ('CP445', 0), ('CP446', 0), ('CP447', 0), ('CP448', 0), ('CP449', 0), ('CP450', 0), ('CP451', 0), ('CP452', 1), ('CP453', 1), ('CP454', 0), ('CP455', 0), ('CP456', 1), ('CP457', 0), ('CP458', 0), ('CP459', 1), ('CP460', 1), ('CP461', 0), ('CP462', 0), ('CP463', 0), ('CP464', 0), ('CP465', 0), ('CP466', 0), ('CP467', 0), ('CP468', 1), ('CP469', 0), ('CP470', 0), ('CP471', 0), ('CP472', 0), ('CP473', 0), ('CP474', 1), ('CP475', 0), ('CP476', 0), ('CP477', 1), ('CP478', 0), ('CP479', 1), ('CP480', 1), ('CP481', 1), ('CP482', 1), ('CP483', 1), ('CP484', 0), ('CP485', 0), ('CP486', 0), ('CP487', 0), ('CP488', 1), ('CP489', 0), ('CP490', 0), ('CP491', 1), ('CP492', 0), ('CP493', 0), ('CP494', 1), ('CP495', 0), ('CP496', 1), ('CP497', 0), ('CP498', 0), ('CP499', 0), ('CP500', 1), ('CP501', 1), ('CP502', 1), ('CP503', 0), ('CP504', 0), ('CP505', 0), ('CP506', 0), ('CP507', 0), ('CP508', 0), ('CP509', 1), ('CP510', 1), ('CP511', 0), ('CP512', 0), ('CP513', 1), ('CP514', 0), ('CP515', 0), ('CP516', 0), ('CP517', 1), ('CP518', 0), ('CP519', 1), ('CP520', 0), ('CP521', 0), ('CP522', 0), ('CP523', 1), ('CP524', 0), ('CP525', 0), ('CP526', 0), ('CP527', 1), ('CP528', 1), ('CP529', 0), ('CP530', 0), ('CP531', 0), ('CP532', 1), ('CP533', 0), ('CP534', 1), ('CP535', 1), ('CP536', 0), ('CP537', 0), ('CP538', 0), ('CP539', 0), ('CP540', 0), ('CP541', 0), ('CP542', 1), ('CP543', 1), ('CP544', 0), ('CP545', 0), ('CP546', 1), ('CP547', 0), ('CP548', 0), ('CP549', 0), ('CP550', 1), ('CP551', 0), ('CP552', 0), ('CP553', 0), ('CP554', 0), ('CP555', 0), ('CP556', 0), ('CP557', 0), ('CP558', 1), ('CP559', 0), ('CP560', 0), ('CP561', 0), ('CP562', 0), ('CP563', 0), ('CP564', 0), ('CP565', 0), ('CP566', 1), ('CP567', 1), ('CP568', 0), ('CP569', 0), ('CP570', 0), ('CP571', 1), ('CP572', 1), ('CP573', 0), ('CP574', 0), ('CP575', 1), ('CP576', 1), ('CP577', 0), ('CP578', 0), ('CP579', 0), ('CP580', 0), ('CP581', 1), ('CP582', 0), ('CP583', 0), ('CP584', 0), ('CP585', 0), ('CP586', 1), ('CP587', 1), ('CP588', 0), ('CP589', 1), ('CP590', 0), ('CP591', 0), ('CP592', 1), ('CP593', 0), ('CP594', 0), ('CP595', 0), ('CP596', 0), ('CP597', 0), ('CP598', 1), ('CP599', 1), ('CP600', 0), ('CP601', 0), ('CP602', 0), ('CP603', 0), ('CP604', 0), ('CP605', 1), ('CP606', 0), ('CP607', 1), ('CP608', 0), ('CP609', 0), ('CP610', 0), ('CP611', 1), ('CP612', 0), ('CP613', 0), ('CP614', 0), ('CP615', 1), ('CP616', 1), ('CP617', 0), ('CP618', 0), ('CP619', 1), ('CP620', 1), ('CP621', 1), ('CP622', 1), ('CP623', 0), ('CP624', 0), ('CP625', 0), ('CP626', 1), ('CP627', 0), ('CP628', 0), ('CP629', 0), ('CP630', 0), ('CP631', 0), ('CP632', 0), ('CP633', 1), ('CP634', 1), ('CP635', 1), ('CP636', 0), ('CP637', 0), ('CP638', 1), ('CP639', 1), ('CP640', 1), ('CP641', 0), ('CP642', 0), ('CP643', 0), ('CP644', 0), ('CP645', 0), ('CP646', 1), ('CP647', 1), ('CP648', 0), ('CP649', 0), ('CP650', 0), ('CP651', 1), ('CP652', 1), ('CP653', 0), ('CP654', 1), ('CP655', 0), ('CP656', 0), ('CP657', 0), ('CP658', 0), ('CP659', 0), ('CP660', 0), ('CP661', 1), ('CP662', 0), ('CP663', 1), ('CP664', 0), ('CP665', 0), ('CP666', 1), ('CP667', 0), ('CP668', 0), ('CP669', 1), ('CP670', 0), ('CP671', 0), ('CP672', 0), ('CP673', 0), ('CP674', 0), ('CP675', 0), ('CP676', 0), ('CP677', 0), ('CP678', 0), ('CP679', 0), ('CP680', 0), ('CP681', 0), ('CP682', 0), ('CP683', 1), ('CP684', 0), ('CP685', 1), ('CP686', 0), ('CP687', 0), ('CP688', 1), ('CP689', 0), ('CP690', 0), ('CP691', 1), ('CP692', 0), ('CP693', 0), ('CP694', 1), ('CP695', 1), ('CP696', 1), ('CP697', 0), ('CP698', 0), ('CP699', 0), ('CP700', 0), ('CP701', 0), ('CP702', 0), ('CP703', 0), ('CP704', 0), ('CP705', 0), ('CP706', 0), ('CP707', 0), ('CP708', 0), ('CP709', 0), ('CP710', 1), ('CP711', 1), ('CP712', 0), ('CP713', 1), ('CP714', 1), ('CP715', 0), ('CP716', 0), ('CP717', 0), ('CP718', 0), ('CP719', 0), ('CP720', 1), ('CP721', 1), ('CP722', 0), ('CP723', 0), ('CP724', 1), ('CP725', 0), ('CP726', 1), ('CP727', 0), ('CP728', 0), ('CP729', 1), ('CP730', 0), ('CP731', 0), ('CP732', 0), ('CP733', 1), ('CP734', 1), ('CP735', 0), ('CP736', 0), ('CP737', 1), ('CP738', 0), ('CP739', 0), ('CP740', 0), ('CP741', 0), ('CP742', 0), ('CP743', 0), ('CP744', 0), ('CP745', 0), ('CP746', 1), ('CP747', 0), ('CP748', 1), ('CP749', 0), ('CP750', 1), ('CP751', 1), ('CP752', 1), ('CP753', 0), ('CP754', 0), ('CP755', 0), ('CP756', 1), ('CP757', 0), ('CP758', 0), ('CP759', 0), ('CP760', 0), ('CP761', 0), ('CP762', 1), ('CP763', 0), ('CP764', 1), ('CP765', 0), ('CP766', 0), ('CP767', 0), ('CP768', 1), ('CP769', 1), ('CP770', 1), ('CP771', 0), ('CP772', 0), ('CP773', 0), ('CP774', 0), ('CP775', 0), ('CP776', 1), ('CP777', 0), ('CP778', 0), ('CP779', 0), ('CP780', 1), ('CP781', 1), ('CP782', 0), ('CP783', 0), ('CP784', 0), ('CP785', 0), ('CP786', 0), ('CP787', 0), ('CP788', 0), ('CP789', 0), ('CP790', 0), ('CP791', 0), ('CP792', 0), ('CP793', 0), ('CP794', 1), ('CP795', 0), ('CP796', 1), ('CP797', 0), ('CP798', 0), ('CP799', 0)]\n"
          ],
          "name": "stdout"
        }
      ]
    },
    {
      "cell_type": "code",
      "metadata": {
        "id": "Sg6C_9U_EXAR",
        "colab_type": "code",
        "colab": {}
      },
      "source": [
        "#creating final dataframe for required columns\n",
        "speedstar_final = pd.DataFrame(speedstar_results_list,columns=['Id','CarInsurance'])\n"
      ],
      "execution_count": 85,
      "outputs": []
    },
    {
      "cell_type": "code",
      "metadata": {
        "id": "gzEORIAqH-FT",
        "colab_type": "code",
        "colab": {}
      },
      "source": [
        "#Writing to a CSV file\n",
        "speedstar_final.to_csv(\"Spectrum_logistic.csv\")"
      ],
      "execution_count": 86,
      "outputs": []
    },
    {
      "cell_type": "code",
      "metadata": {
        "id": "SVN3GodQ5o3J",
        "colab_type": "code",
        "colab": {}
      },
      "source": [
        "from sklearn.ensemble import GradientBoostingClassifier\n",
        "from sklearn.model_selection import GridSearchCV\n",
        "params = {'learning_rate':[0.15,0.1,0.05,0.01],'n_estimators':[20,40,60,80,100]}\n",
        "speedstar_gradient = GradientBoostingClassifier(max_depth=2, random_state = 0).fit(speedstar_x,speedstar_y)\n",
        "final_model= GridSearchCV(estimator = speedstar_gradient, param_grid=params,cv=5)\n",
        "final_model=final_model.fit(speedstar_x,speedstar_y)\n",
        "y_gradient_new = final_model.predict(speedstar_test)\n",
        "speedstar_results_list=y_gradient_new.tolist()\n",
        "speedstar_results_list=[('CP' + str(i),val) for i,val in enumerate(speedstar_results_list)]\n",
        "speedstar_grid = pd.DataFrame(speedstar_results_list,columns=['Id','CarInsurance'])\n",
        "speedstar_grid.to_csv(\"Spectrum_grid.csv\")"
      ],
      "execution_count": 95,
      "outputs": []
    }
  ]
}