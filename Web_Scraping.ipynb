{
  "nbformat": 4,
  "nbformat_minor": 0,
  "metadata": {
    "colab": {
      "name": "WebScraping.ipynb",
      "provenance": [],
      "collapsed_sections": []
    },
    "kernelspec": {
      "name": "python3",
      "display_name": "Python 3"
    }
  },
  "cells": [
    {
      "cell_type": "code",
      "metadata": {
        "id": "7_5WRe-dsVfL",
        "colab_type": "code",
        "colab": {}
      },
      "source": [
        "from bs4 import BeautifulSoup\n",
        "import requests\n",
        "import pandas as pd"
      ],
      "execution_count": null,
      "outputs": []
    },
    {
      "cell_type": "code",
      "metadata": {
        "id": "VhkZm64-kCyF",
        "colab_type": "code",
        "colab": {}
      },
      "source": [
        "pages = [str(i) for i in range(1,10)]\n"
      ],
      "execution_count": null,
      "outputs": []
    },
    {
      "cell_type": "code",
      "metadata": {
        "id": "C0zmjkDHp0_y",
        "colab_type": "code",
        "colab": {}
      },
      "source": [
        "for page in pages:\n",
        "  print(page)"
      ],
      "execution_count": null,
      "outputs": []
    },
    {
      "cell_type": "markdown",
      "metadata": {
        "id": "QId1XIl_CJ8O",
        "colab_type": "text"
      },
      "source": [
        "**BINGLE**"
      ]
    },
    {
      "cell_type": "code",
      "metadata": {
        "id": "38e5w9u7vOs_",
        "colab_type": "code",
        "colab": {}
      },
      "source": [
        "#for loop to extract the data from multiple pages and store it one dataset\n",
        "pages=[] \n",
        "reviews = []\n",
        "collection=['1','2','3','4','5','6','7','9','10']\n",
        "\n",
        "for i in collection:\n",
        "    url = 'https://www.productreview.com.au/listings/bingle?page='+str(i)\n",
        "    pages.append(url)   \n",
        "    \n",
        "for item in pages:\n",
        "    response = requests.get(item)\n",
        "    soup = BeautifulSoup(response.text, \"html.parser\")\n",
        "    \n",
        "    \n",
        "    all_reviews = soup.findAll(\"div\", {\"itemprop\": \"review\"})\n",
        "    print('Length of reviews: {}'.format(len(all_reviews)))\n",
        "      \n",
        "\n",
        "\n",
        "    for reviewBox in all_reviews:\n",
        "\n",
        "      # get review title\n",
        "      review_title = reviewBox.find('h3', {\"class\": \"mb-2_3ol\"}).text\n",
        "              \n",
        "      # get review\n",
        "      review_text = reviewBox.find('p', {\"class\": \"mb-0_2CX\"}).text\n",
        "              \n",
        "      # get date\n",
        "      # date is placed as an attribute of the html element. These are indicated by the word 'attr' in the html structure. You can access them as follows:\n",
        "      review_date = reviewBox.find('meta', {'itemprop': 'datePublished'})['content']\n",
        "\n",
        "      # get star rating\n",
        "      review_stars = reviewBox.find('meta', {'itemprop': 'ratingValue'})['content']\n",
        "              \n",
        "      # append the process review and the title to the reviews list\n",
        "      reviews.append([review_title, review_text, review_date, review_stars])\n",
        "output_column_names = ['title', 'review', 'date', 'stars']\n",
        "data = pd.DataFrame(reviews, columns=output_column_names)\n",
        "data.to_csv('bingle_reviews.csv', index=None)"
      ],
      "execution_count": null,
      "outputs": []
    },
    {
      "cell_type": "markdown",
      "metadata": {
        "id": "FrwUQRg4EG0X",
        "colab_type": "text"
      },
      "source": [
        "**AAMI**"
      ]
    },
    {
      "cell_type": "code",
      "metadata": {
        "id": "PK0OSOhlCUlJ",
        "colab_type": "code",
        "colab": {}
      },
      "source": [
        "\n",
        "pages=[] \n",
        "reviews = []\n",
        "collection=['1','2','3','4','5','6','7','9','10']\n",
        "for i in collection:\n",
        "    url = 'https://www.productreview.com.au/listings/aami-car-insurance?page='+str(i)\n",
        "  \n",
        "    pages.append(url)   \n",
        "  \n",
        "    \n",
        "for item in pages:\n",
        "    response = requests.get(item)\n",
        "    soup = BeautifulSoup(response.text, \"html.parser\")\n",
        "    \n",
        "    \n",
        "    all_reviews = soup.findAll(\"div\", {\"itemprop\": \"review\"})\n",
        "    print('Length of reviews: {}'.format(len(all_reviews)))\n",
        "      \n",
        "\n",
        "\n",
        "    for reviewBox in all_reviews:\n",
        "\n",
        "      # get review title\n",
        "      review_title = reviewBox.find('h3', {\"class\": \"mb-2_3ol\"}).text\n",
        "              \n",
        "      # get review\n",
        "      review_text = reviewBox.find('p', {\"class\": \"mb-0_2CX\"}).text\n",
        "              \n",
        "      # get date\n",
        "      # date is placed as an attribute of the html element. These are indicated by the word 'attr' in the html structure. You can access them as follows:\n",
        "      review_date = reviewBox.find('meta', {'itemprop': 'datePublished'})['content']\n",
        "\n",
        "      # get star rating\n",
        "      review_stars = reviewBox.find('meta', {'itemprop': 'ratingValue'})['content']\n",
        "              \n",
        "      # append the process review and the title to the reviews list\n",
        "      reviews.append([review_title, review_text, review_date, review_stars])\n",
        "output_column_names = ['title', 'review', 'date', 'stars']\n",
        "data = pd.DataFrame(reviews, columns=output_column_names)\n",
        "data.to_csv('AAMI_reviews.csv', index=None)"
      ],
      "execution_count": null,
      "outputs": []
    },
    {
      "cell_type": "markdown",
      "metadata": {
        "id": "PUVlkFFKFVvo",
        "colab_type": "text"
      },
      "source": [
        "**RACV**"
      ]
    },
    {
      "cell_type": "code",
      "metadata": {
        "id": "rjtR34d6EEmp",
        "colab_type": "code",
        "colab": {}
      },
      "source": [
        "\n",
        "pages=[] \n",
        "reviews = []\n",
        "collection=['1','2','3','4','5','6','7','9']\n",
        "for i in collection:\n",
        "    url = 'https://www.productreview.com.au/listings/racv-car-insurance?page='+str(i)\n",
        "  \n",
        "    pages.append(url)   \n",
        "  \n",
        "    \n",
        "for item in pages:\n",
        "    response = requests.get(item)\n",
        "    soup = BeautifulSoup(response.text, \"html.parser\")\n",
        "    \n",
        "    \n",
        "    all_reviews = soup.findAll(\"div\", {\"itemprop\": \"review\"})\n",
        "    print('Length of reviews: {}'.format(len(all_reviews)))\n",
        "      \n",
        "\n",
        "\n",
        "    for reviewBox in all_reviews:\n",
        "\n",
        "      # get review title\n",
        "      review_title = reviewBox.find('h3', {\"class\": \"mb-2_3ol\"}).text\n",
        "              \n",
        "      # get review\n",
        "      review_text = reviewBox.find('p', {\"class\": \"mb-0_2CX\"}).text\n",
        "              \n",
        "      # get date\n",
        "      # date is placed as an attribute of the html element. These are indicated by the word 'attr' in the html structure. You can access them as follows:\n",
        "      review_date = reviewBox.find('meta', {'itemprop': 'datePublished'})['content']\n",
        "\n",
        "      # get star rating\n",
        "      review_stars = reviewBox.find('meta', {'itemprop': 'ratingValue'})['content']\n",
        "              \n",
        "      # append the process review and the title to the reviews list\n",
        "      reviews.append([review_title, review_text, review_date, review_stars])\n",
        "output_column_names = ['title', 'review', 'date', 'stars']\n",
        "data = pd.DataFrame(reviews, columns=output_column_names)\n",
        "data.to_csv('RACV_reviews.csv', index=None)"
      ],
      "execution_count": null,
      "outputs": []
    },
    {
      "cell_type": "markdown",
      "metadata": {
        "id": "i8CKwFQvGqxj",
        "colab_type": "text"
      },
      "source": [
        "**Allianz**"
      ]
    },
    {
      "cell_type": "code",
      "metadata": {
        "id": "9xkiJlUFFa2O",
        "colab_type": "code",
        "colab": {}
      },
      "source": [
        "\n",
        "pages=[] \n",
        "reviews = []\n",
        "collection=['1','2','3','4','5','6','7','9','10']\n",
        "for i in collection:\n",
        "    url = 'https://www.productreview.com.au/listings/allianz-car-insurance?page='+str(i)\n",
        "  \n",
        "    pages.append(url)   \n",
        "  \n",
        "    \n",
        "for item in pages:\n",
        "    response = requests.get(item)\n",
        "    soup = BeautifulSoup(response.text, \"html.parser\")\n",
        "    \n",
        "    \n",
        "    all_reviews = soup.findAll(\"div\", {\"itemprop\": \"review\"})\n",
        "    print('Length of reviews: {}'.format(len(all_reviews)))\n",
        "      \n",
        "\n",
        "\n",
        "    for reviewBox in all_reviews:\n",
        "\n",
        "      # get review title\n",
        "      review_title = reviewBox.find('h3', {\"class\": \"mb-2_3ol\"}).text\n",
        "              \n",
        "      # get review\n",
        "      review_text = reviewBox.find('p', {\"class\": \"mb-0_2CX\"}).text\n",
        "              \n",
        "      # get date\n",
        "      # date is placed as an attribute of the html element. These are indicated by the word 'attr' in the html structure. You can access them as follows:\n",
        "      review_date = reviewBox.find('meta', {'itemprop': 'datePublished'})['content']\n",
        "\n",
        "      # get star rating\n",
        "      review_stars = reviewBox.find('meta', {'itemprop': 'ratingValue'})['content']\n",
        "              \n",
        "      # append the process review and the title to the reviews list\n",
        "      reviews.append([review_title, review_text, review_date, review_stars])\n",
        "output_column_names = ['title', 'review', 'date', 'stars']\n",
        "data = pd.DataFrame(reviews, columns=output_column_names)\n",
        "data.to_csv('Allianz_reviews.csv', index=None)"
      ],
      "execution_count": null,
      "outputs": []
    }
  ]
}